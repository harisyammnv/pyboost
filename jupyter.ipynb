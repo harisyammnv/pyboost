{
 "cells": [
  {
   "cell_type": "code",
   "execution_count": 1,
   "metadata": {
    "collapsed": false
   },
   "outputs": [],
   "source": [
    "import pickle\n",
    "\n",
    "from pyboost import controllers as pb\n",
    "from pyspark import SparkContext\n",
    "\n",
    "sc = SparkContext(master=\"local[2]\")"
   ]
  },
  {
   "cell_type": "code",
   "execution_count": 2,
   "metadata": {
    "collapsed": false
   },
   "outputs": [],
   "source": [
    "X_train, X_test, y_train, y_test = pickle.load(open(\"../experiments/higgs/data/higgs-data-1p.pickle\"))"
   ]
  },
  {
   "cell_type": "code",
   "execution_count": 3,
   "metadata": {
    "collapsed": true
   },
   "outputs": [],
   "source": [
    "X = sc.parallelize(X_train)\n",
    "y = sc.parallelize([y + y - 1 for y in  y_train])"
   ]
  },
  {
   "cell_type": "code",
   "execution_count": 4,
   "metadata": {
    "collapsed": true
   },
   "outputs": [],
   "source": [
    "num_round = 10"
   ]
  },
  {
   "cell_type": "code",
   "execution_count": 5,
   "metadata": {
    "collapsed": false
   },
   "outputs": [
    {
     "name": "stdout",
     "output_type": "stream",
     "text": [
      "=== Iteration 1 ===\n",
      "Score (sorted by index): [0.9969926595430324, 0.99863620190558489, 0.99853220747575011, 0.99424008684579512, 0.99869017878872046, 0.99701387208426484, 0.9989750758279522, 0.99840136137359969, 0.99916246113569862, 0.99812604216472278, 0.99844268574043793, 0.9989846029942161, 0.99797038014459105, 0.99846949788627093, 0.99854903050157218, 0.99889548341670109, 0.9995938929889383, 0.99792682451060921, 0.99919928229157173, 0.99824205105278296, 0.99996322431539619, 0.99821602213215299, 0.99494948596449817, 0.99888371916788976, 0.99520284405808679, 0.9797591152634012, 0.99233152757315979, 0.98430478436071411]\n",
      "Min score: 0.979759115263\n",
      "Purity (farther from 1.0 is better): (1.3553128049669718, 0.56049457424717108)\n",
      "Predicts (farther from 0.0 is better): (0.15201614003175204, -0.28946785835903821)\n",
      "Split node: 0 (left)\n",
      "Split index and value: 25 0.995424747467 \n",
      "\n",
      "=== Iteration 2 ===\n",
      "Score (sorted by index): [0.99679959434815346, 0.99772612263687499, 0.99859289781450455, 0.99734976562699917, 0.99824166588660979, 0.99004154516865084, 0.99719980056440072, 0.99881826774761029, 0.9965761999065037, 0.99219741544209605, 0.9989606107675838, 0.99857455141446616, 0.99834106843569914, 0.99671948707608238, 0.9983823787927335, 0.99891399705482475, 0.99982803714364521, 0.99543316542208882, 0.99671278295907362, 0.99850831799488926, 0.99816508258192016, 0.99703574900650949, 0.99524824796007205, 0.99892665182785378, 0.99563760939677626, 0.97932955293963042, 0.98759572204170443, 0.99128796628226445]\n",
      "Min score: 0.97932955294\n",
      "Purity (farther from 1.0 is better): (0.56347994494679143, 1.4501602411340158)\n",
      "Predicts (farther from 0.0 is better): (-0.28681176814609383, 0.18583703072674285)\n",
      "Split node: 1 (left)\n",
      "Split index and value: 25 0.67005443573 \n",
      "\n",
      "=== Iteration 3 ===\n",
      "Score (sorted by index): [0.99677515525068883, 0.99681302005813288, 0.99846280891503048, 0.99383043036601515, 0.99798920766964039, 0.99392807687319817, 0.99921576950284452, 0.99855048374039446, 0.99936518386267337, 0.99538523546163138, 0.99708802241468131, 0.99712849397693981, 0.99754198198205923, 0.99647485903987609, 0.99853066301152782, 0.99874285998305234, 0.99812821494290049, 0.99502453221555054, 0.99847959212604254, 0.99824177024130833, 0.99897350749396263, 0.99723116978651505, 0.99183878778861334, 0.9963443123592588, 0.99626295356068084, 0.99677086929194636, 0.99081412262101476, 0.99103080637228991]\n",
      "Min score: 0.990814122621\n",
      "Purity (farther from 1.0 is better): (0.43280683614118337, 1.2346444607195175)\n",
      "Predicts (farther from 0.0 is better): (-0.41873187821199942, 0.10539152128786192)\n",
      "Split node: 2 (right)\n",
      "Split index and value: 26 0.797353386879 \n",
      "\n",
      "=== Iteration 4 ===\n",
      "Score (sorted by index): [0.99219673007757703, 0.99787171783235151, 0.99726849932624684, 0.99193734212257745, 0.99815614323816226, 0.99384268074596194, 0.99658952524174405, 0.99810356121355848, 0.99923951355495255, 0.99549042105146412, 0.9973502053757628, 0.99844962955622096, 0.99832746841778708, 0.99641008473170722, 0.99850634446461928, 0.99696946636950656, 0.9977743667746386, 0.99847915584085234, 0.99864377034287166, 0.99831373510548616, 0.99910462561221969, 0.99477637930660823, 0.99344683799481326, 0.99759417820801466, 0.99371294576547431, 0.99285392444691323, 0.99264468450113108, 0.98276158216988929]\n",
      "Min score: 0.98276158217\n",
      "Purity (farther from 1.0 is better): (1.3268655202628621, 0.75222506190804106)\n",
      "Predicts (farther from 0.0 is better): (0.14140970452063978, -0.14235985767838644)\n",
      "Split node: 0 (left)\n",
      "Split index and value: 27 0.879272997379 \n",
      "\n",
      "=== Iteration 5 ===\n",
      "Score (sorted by index): [0.99306275441747804, 0.99829318545499579, 0.99728758954275232, 0.99338319555556254, 0.99747198383640401, 0.9897307469294806, 0.99674404371270964, 0.99707160394157923, 0.99855849730240154, 0.99204080789686866, 0.99615473708157065, 0.9977474892992837, 0.99689054221201245, 0.99485922597693488, 0.99801899960416218, 0.9965067788917481, 0.99779530194866528, 0.99747678431084885, 0.99769761666392665, 0.99750229391095679, 0.99836057474802309, 0.99661522925016321, 0.98798041372878098, 0.99709181807550795, 0.9916949124256107, 0.9953900083800088, 0.99403241123381481, 0.99578899334627369]\n",
      "Min score: 0.987980413729\n",
      "Purity (farther from 1.0 is better): (0.84083510862751043, 1.5223798014932477)\n",
      "Predicts (farther from 0.0 is better): (-0.086679852036928393, 0.2101373846846275)\n",
      "Split node: 0 (left)\n",
      "Split index and value: 22 1.05238366127 \n",
      "\n",
      "=== Iteration 6 ===\n",
      "Score (sorted by index): [0.99300312497376453, 0.99555173881134729, 0.99780956870931148, 0.99193512672178641, 0.99772633887879025, 0.98701031585712728, 0.9983452099587341, 0.99830853717757606, 0.99830713593966125, 0.99603879290051811, 0.99582284876801686, 0.99702177470087383, 0.9969292975275561, 0.99662236246929559, 0.99683871157803194, 0.99788190628690354, 0.99853392832897658, 0.99701706218559538, 0.99678344285048304, 0.99792696714753748, 0.99835756184774715, 0.99507199720177286, 0.992894021490626, 0.99716252060257127, 0.99060766818615364, 0.99504892596223649, 0.98764086782453431, 0.99263636205258121]\n",
      "Min score: 0.987010315857\n",
      "Purity (farther from 1.0 is better): (0.9187887647498767, 2.2535149530139562)\n",
      "Predicts (farther from 0.0 is better): (-0.042349518210075592, 0.40624559929435095)\n",
      "Split node: 4 (left)\n",
      "Split index and value: 5 1.05513191223 \n",
      "\n",
      "=== Iteration 7 ===\n",
      "Score (sorted by index): [0.99395450554586362, 0.99763421802424224, 0.99679232331337264, 0.99393277406748415, 0.99605454391051773, 0.99443030629683959, 0.99621348707689106, 0.99825449881702177, 0.99775537857225216, 0.99553894553333344, 0.99781383440853533, 0.99726448333014095, 0.99841066372640586, 0.99762616934401616, 0.99750825235534868, 0.99595997444615048, 0.99878439484832393, 0.99701965352910249, 0.99855716478236767, 0.99764714659813269, 0.9980731742417549, 0.99673723507619771, 0.9921873803996627, 0.99697463437136524, 0.99230601876559588, 0.99375600570367162, 0.9948676046844962, 0.99254612699618028]\n",
      "Min score: 0.9921873804\n",
      "Purity (farther from 1.0 is better): (1.3488927647453757, 0.84326349803640011)\n",
      "Predicts (farther from 0.0 is better): (0.14964204083036153, -0.085237899004998285)\n",
      "Split node: 1 (left)\n",
      "Split index and value: 22 0.800207972527 \n",
      "\n",
      "=== Iteration 8 ===\n",
      "Score (sorted by index): [0.99223797002367742, 0.99719737528302255, 0.99780976261364906, 0.99649591404039084, 0.99795745809908953, 0.99570308785772088, 0.99798214540269492, 0.99683031570003477, 0.99887424450895856, 0.9959191210768471, 0.99829122842598705, 0.9979349811386472, 0.99746282727868041, 0.99618072861923301, 0.99691575430847035, 0.99705795850952517, 0.99831133220614543, 0.99665039065410277, 0.99815041500481849, 0.99734729210354467, 0.99889534433774707, 0.99743748302444035, 0.9970560234451864, 0.99769697726689599, 0.99295331533909148, 0.99199379649214614, 0.99285063692609754, 0.99401019145001657]\n",
      "Min score: 0.991993796492\n",
      "Purity (farther from 1.0 is better): (1.0607623265183943, 0.32288754366399464)\n",
      "Predicts (farther from 0.0 is better): (0.029493912800808163, -0.56522558920646404)\n",
      "Split node: 1 (right)\n",
      "Split index and value: 25 2.92233228683 \n",
      "\n",
      "=== Iteration 9 ===\n",
      "Score (sorted by index): [0.99443068210810492, 0.99754564912075516, 0.99562823865746486, 0.99366734166444548, 0.99800812813635731, 0.99665405557234066, 0.99750153158380095, 0.99730368505312272, 0.99926007332936417, 0.99623768249477229, 0.99638580659549381, 0.99827270368809318, 0.99855057197310126, 0.99565756714039821, 0.99543824006833004, 0.99815120381027844, 0.9990227121141626, 0.9979248515180118, 0.99806284515818211, 0.99682400602126742, 0.99856356301229832, 0.99697707210889974, 0.99621484770853064, 0.99734153497101663, 0.98920413072730962, 0.99444274648756481, 0.99630533412162714, 0.9937141281451789]\n",
      "Min score: 0.989204130727\n",
      "Purity (farther from 1.0 is better): (0.66872548277958566, 1.2483128117864248)\n",
      "Predicts (farther from 0.0 is better): (-0.20119082135406616, 0.11089644450477334)\n",
      "Split node: 4 (right)\n",
      "Split index and value: 24 1.00965034962 \n",
      "\n",
      "=== Iteration 10 ===\n",
      "Score (sorted by index): [0.99413599907689165, 0.99753865408875675, 0.99785654745625763, 0.99407812364677017, 0.99693222306776508, 0.99558464615387698, 0.997903597288606, 0.99787328902417194, 0.9985877567351723, 0.99646460123077374, 0.99776063649173952, 0.99764067716677285, 0.99821279327164525, 0.99555365281211472, 0.99640228460272184, 0.99715219620492412, 0.99907036661962179, 0.99450096163603185, 0.99639293245506744, 0.99791907578774208, 0.99904004176328032, 0.9966248540501792, 0.99596437392415715, 0.99720445975377903, 0.9946688435838803, 0.99292885855307444, 0.99571477454957003, 0.99316043653508812]\n",
      "Min score: 0.992928858553\n",
      "Purity (farther from 1.0 is better): (1.0523458936547574, 0.55072738375449604)\n",
      "Predicts (farther from 0.0 is better): (0.02551092826182302, -0.29825767929612329)\n",
      "Split node: 0 (left)\n",
      "Split index and value: 25 1.84743273258 \n",
      "\n",
      "== Timer Log ==\n",
      "(0.00 s) [run_adtree] Iteration 0 starts.\n",
      "(4.28 s) [run_adtree] Found best split.\n",
      "(5.53 s) [run_adtree] Obtained the predictions of the new split.\n",
      "(7.32 s) [run_adtree] Instance weights updated.\n",
      "(7.32 s) [run_adtree] Iteration 1 starts.\n",
      "(12.18 s) [run_adtree] Found best split.\n",
      "(13.15 s) [run_adtree] Obtained the predictions of the new split.\n",
      "(14.90 s) [run_adtree] Instance weights updated.\n",
      "(14.90 s) [run_adtree] Iteration 2 starts.\n",
      "(20.93 s) [run_adtree] Found best split.\n",
      "(21.82 s) [run_adtree] Obtained the predictions of the new split.\n",
      "(23.77 s) [run_adtree] Instance weights updated.\n",
      "(23.77 s) [run_adtree] Iteration 3 starts.\n",
      "(30.53 s) [run_adtree] Found best split.\n",
      "(32.57 s) [run_adtree] Obtained the predictions of the new split.\n",
      "(35.38 s) [run_adtree] Instance weights updated.\n",
      "(35.38 s) [run_adtree] Iteration 4 starts.\n",
      "(43.97 s) [run_adtree] Found best split.\n",
      "(44.89 s) [run_adtree] Obtained the predictions of the new split.\n",
      "(46.76 s) [run_adtree] Instance weights updated.\n",
      "(46.76 s) [run_adtree] Iteration 5 starts.\n",
      "(57.71 s) [run_adtree] Found best split.\n",
      "(58.62 s) [run_adtree] Obtained the predictions of the new split.\n",
      "(60.56 s) [run_adtree] Instance weights updated.\n",
      "(60.56 s) [run_adtree] Iteration 6 starts.\n",
      "(72.89 s) [run_adtree] Found best split.\n",
      "(73.84 s) [run_adtree] Obtained the predictions of the new split.\n",
      "(75.71 s) [run_adtree] Instance weights updated.\n",
      "(75.71 s) [run_adtree] Iteration 7 starts.\n",
      "(91.11 s) [run_adtree] Found best split.\n",
      "(91.98 s) [run_adtree] Obtained the predictions of the new split.\n",
      "(93.81 s) [run_adtree] Instance weights updated.\n",
      "(93.81 s) [run_adtree] Iteration 8 starts.\n",
      "(109.14 s) [run_adtree] Found best split.\n",
      "(110.06 s) [run_adtree] Obtained the predictions of the new split.\n",
      "(112.15 s) [run_adtree] Instance weights updated.\n",
      "(112.15 s) [run_adtree] Iteration 9 starts.\n",
      "(126.36 s) [run_adtree] Found best split.\n",
      "(127.45 s) [run_adtree] Obtained the predictions of the new split.\n",
      "(131.79 s) [run_adtree] Instance weights updated.\n",
      "\n"
     ]
    }
   ],
   "source": [
    "adaboost = pb.run_adtree_adaboost(sc, y, X, T=num_round, quiet=False)"
   ]
  },
  {
   "cell_type": "code",
   "execution_count": 8,
   "metadata": {
    "collapsed": false,
    "scrolled": true
   },
   "outputs": [
    {
     "name": "stdout",
     "output_type": "stream",
     "text": [
      "=== Iteration 1 ===\n",
      "Score (sorted by index): [0.99457455462809874, 0.9992027170680694, 0.99747774785329568, 0.99282811139918703, 0.99833348281764678, 0.99478083120169081, 0.9975311819470537, 0.99915739875018506, 0.9988432535755889, 0.99854960103612211, 0.99686044608937319, 0.99852474065850283, 0.99812489063190235, 0.99835175348835514, 0.99816670201893964, 0.9978074465036797, 0.99795604769916924, 0.99815642182942999, 0.99845926936942275, 0.99595550120273113, 0.99863804882348628, 0.99753338562355875, 0.99505392510955126, 0.9978816138310791, 0.99633779687694057, 0.97461538211441812, 0.99285170333338257, 0.98194760143874382]\n",
      "Min score: 0.974615382114\n",
      "Purity (farther from 1.0 is better): (1.4032316420944626, 0.52411631746729659)\n",
      "Predicts (farther from 0.0 is better): (0.16938894616741476, -0.32302081969778318)\n",
      "Split node: 0 (left)\n",
      "Split index and value: 25 1.0768276453 \n",
      "\n",
      "=== Iteration 2 ===\n",
      "Score (sorted by index): [0.99346193239160474, 0.99489841397974343, 0.99329898018130547, 0.99300845216261979, 0.99653697824778309, 0.98662851661394069, 0.99655166655892646, 0.99313288961129886, 0.9940529928810673, 0.99132944618855656, 0.99651232100426035, 0.99507766032975109, 0.99466287577762125, 0.99535074503714582, 0.9948145054270654, 0.99407022921629717, 0.99563356140066062, 0.99318577364571969, 0.99494639865864576, 0.9944264240127022, 0.995191994537727, 0.99487338586446794, 0.99114083136774145, 0.99528611061595518, 0.99496020561108534, 0.9772126614994705, 0.98356993579149599, 0.98890265075682837]\n",
      "Min score: 0.977212661499\n",
      "Purity (farther from 1.0 is better): (0.68219428453096642, 1.6085167388256962)\n",
      "Predicts (farther from 0.0 is better): (-0.19122039351446266, 0.23765623706221173)\n",
      "Split node: 1 (left)\n",
      "Split index and value: 25 0.668727099895 \n",
      "\n",
      "=== Iteration 3 ===\n",
      "Score (sorted by index): [0.99531008335536297, 0.99466034921845514, 0.9954199395129647, 0.99323392904190011, 0.99319106551565361, 0.98976347604267423, 0.99484910129098614, 0.9944054722331479, 0.99444165994494393, 0.99304388074242134, 0.99374826717414155, 0.99602188268501957, 0.99524468484535422, 0.9963165840601268, 0.99203525990637687, 0.99221650278352347, 0.99488259114422772, 0.99536092463743442, 0.99325995187509353, 0.99424682437509149, 0.99472983427162787, 0.99312919623974139, 0.98910533620503749, 0.99389947129174794, 0.99317196064890823, 0.99094595314354517, 0.98627848216501324, 0.98865270991493048]\n",
      "Min score: 0.986278482165\n",
      "Purity (farther from 1.0 is better): (0.61584990283291696, 1.5680335060235784)\n",
      "Predicts (farther from 0.0 is better): (-0.24237600468592357, 0.22491114516869812)\n",
      "Split node: 2 (right)\n",
      "Split index and value: 26 0.817463040352 \n",
      "\n",
      "=== Iteration 4 ===\n",
      "Score (sorted by index): [0.99343031620788913, 0.99361482857879713, 0.99501371182901832, 0.99188696185920511, 0.99394177874330536, 0.99111920965037725, 0.99386847531993094, 0.9936861932456762, 0.99357979748924596, 0.99605202216646638, 0.99381907755026577, 0.9938241557543277, 0.99349720696622579, 0.99349943020161113, 0.995378002129369, 0.994240637351957, 0.99790749331800277, 0.99245404661784553, 0.99195126727786631, 0.99558248018294737, 0.99689751185612741, 0.99475876831473908, 0.99273084457665206, 0.99462813334677858, 0.99178729415946831, 0.98870942361263559, 0.99233598466230455, 0.9844275035259098]\n",
      "Min score: 0.984427503526\n",
      "Purity (farther from 1.0 is better): (1.9467900180125912, 0.73170416267539873)\n",
      "Predicts (farther from 0.0 is better): (0.33309093579097487, -0.15618949803086662)\n",
      "Split node: 3 (right)\n",
      "Split index and value: 27 0.937434315681 \n",
      "\n",
      "=== Iteration 5 ===\n",
      "Score (sorted by index): [0.99135485506107413, 0.99334967265848451, 0.99443246249071215, 0.99378017651827011, 0.99241502521801261, 0.99333921750891541, 0.99486746321074493, 0.99020313135520421, 0.99333790179426285, 0.99391556465948661, 0.99435632601658763, 0.99411523947589209, 0.99689922711499324, 0.99226888373119082, 0.99209237869333999, 0.99610597294074976, 0.9965749456225218, 0.99326528222845745, 0.99572005741380254, 0.99366162569824745, 0.99508594652485027, 0.99323863558454506, 0.9931098162105757, 0.99453621249957269, 0.99047702971024032, 0.99009410304908596, 0.99267068894124166, 0.9878651029622364]\n",
      "Min score: 0.987865102962\n",
      "Purity (farther from 1.0 is better): (1.6631739225433324, 0.8901801955658033)\n",
      "Predicts (farther from 0.0 is better): (0.25436388917612374, -0.058165684910872477)\n",
      "Split node: 3 (right)\n",
      "Split index and value: 27 0.858566761017 \n",
      "\n",
      "=== Iteration 6 ===\n",
      "Score (sorted by index): [0.99191827242711006, 0.99215043124708946, 0.99336656832206982, 0.99142073567900146, 0.99386387857648351, 0.99084742613505494, 0.99219445809854989, 0.99640378753502479, 0.99497051399304759, 0.99237417014320273, 0.99291855314162869, 0.9935478321591692, 0.99502872341076287, 0.99474208780270179, 0.99609039252206921, 0.99306109619637506, 0.99556402073026284, 0.99480962064935163, 0.99522802740181271, 0.9961105236649771, 0.99617602384950121, 0.99172104887408974, 0.98538401481412252, 0.99361811956324875, 0.99494037414190628, 0.98944470904652604, 0.99217349022837209, 0.98965343646392345]\n",
      "Min score: 0.985384014814\n",
      "Purity (farther from 1.0 is better): (0.73474042014427698, 1.2064798162334134)\n",
      "Predicts (farther from 0.0 is better): (-0.15411900601009945, 0.093853438376983372)\n",
      "Split node: 0 (left)\n",
      "Split index and value: 22 1.03359556198 \n",
      "\n",
      "=== Iteration 7 ===\n",
      "Score (sorted by index): [0.99217184947562787, 0.99485816806570815, 0.99388933666305457, 0.99190673580833733, 0.99489695708010339, 0.9938290219080369, 0.99398907577722229, 0.99294423979887514, 0.99786107524034307, 0.99401619009648501, 0.99406412494134655, 0.99521045500378635, 0.99427370131045867, 0.99502849477042354, 0.99564921563885467, 0.9964748782076851, 0.9963661450695418, 0.99618177929252982, 0.99513578772381384, 0.99588382344962001, 0.99083325676881162, 0.99416639670101348, 0.98868000694927982, 0.99609269624179086, 0.99388668580006367, 0.98906407815321939, 0.99297097643289312, 0.98637306921518242]\n",
      "Min score: 0.986373069215\n",
      "Purity (farther from 1.0 is better): (1.0236553519871809, 0.49005138822736966)\n",
      "Predicts (farther from 0.0 is better): (0.011689949819896765, -0.35662250972147191)\n",
      "Split node: 6 (left)\n",
      "Split index and value: 27 0.977777302265 \n",
      "\n",
      "=== Iteration 8 ===\n",
      "Score (sorted by index): [0.99289594686405269, 0.99491666432908532, 0.99101685804651818, 0.99603124480137095, 0.9959182378031648, 0.99105644248932934, 0.99593475978963852, 0.99460398332909616, 0.99722835356250417, 0.99179234846218822, 0.99767714134609509, 0.99816123223814768, 0.9950672593495139, 0.99409868420967129, 0.99573066687874823, 0.99465793394841928, 0.99730408997224862, 0.99611896281051049, 0.99529855166814307, 0.99539600799640315, 0.99751893227533905, 0.99588546655623511, 0.99110083294310758, 0.99583705304130965, 0.99038483196909077, 0.99139628055276607, 0.99322957083772201, 0.99416141956676629]\n",
      "Min score: 0.990384831969\n",
      "Purity (farther from 1.0 is better): (0.3560045178802429, 1.2530611110249363)\n",
      "Predicts (farther from 0.0 is better): (-0.51640592876789648, 0.11279472324616692)\n",
      "Split node: 7 (right)\n",
      "Split index and value: 24 1.15608823299 \n",
      "\n",
      "=== Iteration 9 ===\n",
      "Score (sorted by index): [0.99105536371212999, 0.99706289332744236, 0.99576302315740306, 0.9948319987212777, 0.99370396796944072, 0.99157029326841095, 0.99419382458006422, 0.9940842197610662, 0.99290247134795739, 0.99391356147343046, 0.99772144373426053, 0.99622653437967512, 0.99648986004043794, 0.99316207669103584, 0.99658990086795818, 0.99191218390710645, 0.99630338696709853, 0.99685619770952205, 0.99250585756216825, 0.99513688959994961, 0.99599394272873387, 0.99139556221290326, 0.99631058910740844, 0.99498074008141435, 0.99353143691702406, 0.9913761638935854, 0.99436058680845618, 0.99419849943218974]\n",
      "Min score: 0.991055363712\n",
      "Purity (farther from 1.0 is better): (1.3276194931759442, 1.5678621657988081)\n",
      "Predicts (farther from 0.0 is better): (0.14169374188741379, 0.22485650679967317)\n",
      "Split node: 5 (left)\n",
      "Split index and value: 0 0.954758405685 \n",
      "\n",
      "=== Iteration 10 ===\n",
      "Score (sorted by index): [0.99534993365578517, 0.99549797771049153, 0.99711891617294901, 0.99261025964916461, 0.99749922432767568, 0.98959457105351034, 0.99528699437248358, 0.99455026122078316, 0.99621872633085773, 0.99231392437649579, 0.99746363103188496, 0.99676298719349432, 0.9953685736345772, 0.99551381534698336, 0.99615423699850902, 0.99596061318108531, 0.99450553651144458, 0.99656586457514862, 0.99499669755343589, 0.99681752713366889, 0.99618972844071729, 0.9961700115121479, 0.99377005191742862, 0.99467965417664694, 0.99420171988931227, 0.99270810668953402, 0.99408077654423932, 0.99417465366482727]\n",
      "Min score: 0.989594571054\n",
      "Purity (farther from 1.0 is better): (0.87143669783691202, 1.9481110533325761)\n",
      "Predicts (farther from 0.0 is better): (-0.068806026266454268, 0.33343010624651209)\n",
      "Split node: 7 (left)\n",
      "Split index and value: 5 1.1568158865 \n",
      "\n",
      "== Timer Log ==\n",
      "(0.00 s) [run_adtree] Iteration 0 starts.\n",
      "(3.97 s) [run_adtree] Found best split.\n",
      "(4.98 s) [run_adtree] Obtained the predictions of the new split.\n",
      "(6.72 s) [run_adtree] Instance weights updated.\n",
      "(6.72 s) [run_adtree] Iteration 1 starts.\n",
      "(12.43 s) [run_adtree] Found best split.\n",
      "(13.54 s) [run_adtree] Obtained the predictions of the new split.\n",
      "(15.79 s) [run_adtree] Instance weights updated.\n",
      "(15.79 s) [run_adtree] Iteration 2 starts.\n",
      "(24.85 s) [run_adtree] Found best split.\n",
      "(26.24 s) [run_adtree] Obtained the predictions of the new split.\n",
      "(29.04 s) [run_adtree] Instance weights updated.\n",
      "(29.04 s) [run_adtree] Iteration 3 starts.\n",
      "(39.55 s) [run_adtree] Found best split.\n",
      "(40.62 s) [run_adtree] Obtained the predictions of the new split.\n",
      "(42.87 s) [run_adtree] Instance weights updated.\n",
      "(42.87 s) [run_adtree] Iteration 4 starts.\n",
      "(50.81 s) [run_adtree] Found best split.\n",
      "(51.69 s) [run_adtree] Obtained the predictions of the new split.\n",
      "(53.98 s) [run_adtree] Instance weights updated.\n",
      "(53.98 s) [run_adtree] Iteration 5 starts.\n",
      "(67.07 s) [run_adtree] Found best split.\n",
      "(67.96 s) [run_adtree] Obtained the predictions of the new split.\n",
      "(69.62 s) [run_adtree] Instance weights updated.\n",
      "(69.62 s) [run_adtree] Iteration 6 starts.\n",
      "(80.22 s) [run_adtree] Found best split.\n",
      "(81.17 s) [run_adtree] Obtained the predictions of the new split.\n",
      "(83.56 s) [run_adtree] Instance weights updated.\n",
      "(83.56 s) [run_adtree] Iteration 7 starts.\n",
      "(95.27 s) [run_adtree] Found best split.\n",
      "(96.07 s) [run_adtree] Obtained the predictions of the new split.\n",
      "(97.83 s) [run_adtree] Instance weights updated.\n",
      "(97.83 s) [run_adtree] Iteration 8 starts.\n",
      "(108.64 s) [run_adtree] Found best split.\n",
      "(109.53 s) [run_adtree] Obtained the predictions of the new split.\n",
      "(111.40 s) [run_adtree] Instance weights updated.\n",
      "(111.40 s) [run_adtree] Iteration 9 starts.\n",
      "(122.43 s) [run_adtree] Found best split.\n",
      "(123.33 s) [run_adtree] Obtained the predictions of the new split.\n",
      "(125.18 s) [run_adtree] Instance weights updated.\n",
      "\n"
     ]
    }
   ],
   "source": [
    "logitboost = pb.run_adtree_logitboost(sc, y, X, T=num_round, quiet=False)"
   ]
  },
  {
   "cell_type": "code",
   "execution_count": null,
   "metadata": {
    "collapsed": true
   },
   "outputs": [],
   "source": []
  },
  {
   "cell_type": "markdown",
   "metadata": {},
   "source": [
    "# Performance"
   ]
  },
  {
   "cell_type": "code",
   "execution_count": 10,
   "metadata": {
    "collapsed": true
   },
   "outputs": [],
   "source": [
    "from pyboost.adtree import run_tree\n",
    "from pyboost.utils import safe_comp\n",
    "\n",
    "def test_error(nodes, y, X, max_index=None):    \n",
    "    error = 0\n",
    "    margin = 0.0\n",
    "    for tX, ty in zip(X, y):\n",
    "        ty = ty + ty - 1\n",
    "        _m = run_tree(0, nodes, tX, max_index=max_index)\n",
    "        predict = safe_comp(_m)\n",
    "        if safe_comp(predict, ty):\n",
    "            error += 1\n",
    "        margin += _m * ty\n",
    "    return 1.0 - float(error) / len(y), margin / len(y)\n",
    "\n",
    "\n",
    "def test_all(nodes):\n",
    "    train_accuracy, train_margin = test_error(nodes, y_train, X_train)\n",
    "    test_accuracy, test_margin = test_error(nodes, y_test, X_test)\n",
    "    print \"Train accuracy:\", train_accuracy, '\\t',\n",
    "    print \"Train margin:\", train_margin\n",
    "    print \"Test accuracy:\", test_accuracy, '\\t',\n",
    "    print \"Test margin:\", test_margin\n",
    "\n",
    "\n",
    "def test_margin(nodes):\n",
    "    for max_index in range(num_round + 1):\n",
    "        accuracy, margin = test_error(nodes, y_train, X_train, max_index=max_index)\n",
    "        print max_index, accuracy, margin"
   ]
  },
  {
   "cell_type": "markdown",
   "metadata": {},
   "source": [
    "## Performance of AdaBoost"
   ]
  },
  {
   "cell_type": "code",
   "execution_count": null,
   "metadata": {
    "collapsed": false
   },
   "outputs": [
    {
     "name": "stdout",
     "output_type": "stream",
     "text": [
      "Train accuracy: 0.66026 \tTrain margin: 0.17679498566\n",
      "Test accuracy: 0.6531 \tTest margin: 0.168592628857\n",
      "0 0.52977 0.00354920956848\n",
      "1 0.60724 0.0468020159013\n",
      "2 0.62567 0.0809744648444\n",
      "3 0.62723 0.0981741554166\n"
     ]
    }
   ],
   "source": [
    "test_all(adaboost)\n",
    "test_margin(adaboost)"
   ]
  },
  {
   "cell_type": "markdown",
   "metadata": {},
   "source": [
    "# Performance of LogitBoost"
   ]
  },
  {
   "cell_type": "code",
   "execution_count": null,
   "metadata": {
    "collapsed": false
   },
   "outputs": [],
   "source": [
    "test_all(logitboost)\n",
    "test_margin(logitboost)"
   ]
  },
  {
   "cell_type": "code",
   "execution_count": null,
   "metadata": {
    "collapsed": true
   },
   "outputs": [],
   "source": []
  }
 ],
 "metadata": {
  "kernelspec": {
   "display_name": "Python 2",
   "language": "python",
   "name": "python2"
  },
  "language_info": {
   "codemirror_mode": {
    "name": "ipython",
    "version": 2
   },
   "file_extension": ".py",
   "mimetype": "text/x-python",
   "name": "python",
   "nbconvert_exporter": "python",
   "pygments_lexer": "ipython2",
   "version": "2.7.10"
  }
 },
 "nbformat": 4,
 "nbformat_minor": 1
}
