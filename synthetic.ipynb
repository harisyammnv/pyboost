{
 "cells": [
  {
   "cell_type": "code",
   "execution_count": 1,
   "metadata": {
    "collapsed": false
   },
   "outputs": [],
   "source": [
    "import pickle\n",
    "\n",
    "from pyboost import controllers as pb\n",
    "from pyspark import SparkContext\n",
    "\n",
    "\n",
    "# sc = SparkContext(master=\"local[3]\")\n",
    "sc = SparkContext(master=master_url, pyFiles=[\"dist/pyboost-0.1-py2.7.egg\"])\n",
    "sc.setCheckpointDir('checkpoint/')"
   ]
  },
  {
   "cell_type": "code",
   "execution_count": 3,
   "metadata": {
    "collapsed": false
   },
   "outputs": [],
   "source": [
    "import numpy as np\n",
    "\n",
    "\n",
    "X_train = []\n",
    "for w in open(\"../synthetic-data/data/features.txt\"):\n",
    "    X_train.append(np.array(list(map(int, w.split()))))\n",
    "\n",
    "y_train = []\n",
    "for w in open(\"../synthetic-data/data/labels.txt\"):\n",
    "    y_train.append(int(w))"
   ]
  },
  {
   "cell_type": "code",
   "execution_count": 4,
   "metadata": {
    "collapsed": true
   },
   "outputs": [],
   "source": [
    "X = sc.parallelize(X_train)\n",
    "y = sc.parallelize(y_train)"
   ]
  },
  {
   "cell_type": "code",
   "execution_count": 5,
   "metadata": {
    "collapsed": true
   },
   "outputs": [],
   "source": [
    "num_round = 5"
   ]
  },
  {
   "cell_type": "code",
   "execution_count": 6,
   "metadata": {
    "collapsed": false
   },
   "outputs": [
    {
     "name": "stdout",
     "output_type": "stream",
     "text": [
      "=== Iteration 1 ===\n",
      "Min score: 0.905089933524\n",
      "Purity (farther from 1.0 is better): (2.4999764977275243, 0.44148785068538743)\n",
      "Predicts (farther from 0.0 is better): (0.45814066546048798, -0.40880238879157499)\n",
      "Split node: 0 (left)\n",
      "Split index and value: 2 4.5 \n",
      "\n",
      "=== Iteration 2 ===\n",
      "Min score: 0.66351200453\n",
      "Purity (farther from 1.0 is better): (5.0651465798045221, 0.00024599358974358883)\n",
      "Predicts (farther from 0.0 is better): (0.81119153851306491, -4.155102540162158)\n",
      "Split node: 1 (right)\n",
      "Split index and value: 3 4.5 \n",
      "\n",
      "=== Iteration 3 ===\n",
      "Min score: 0.627079161921\n",
      "Purity (farther from 1.0 is better): (0.31783818255506785, 144.80177700718468)\n",
      "Predicts (farther from 0.0 is better): (-0.57310644280240775, 2.4876828760126894)\n",
      "Split node: 0 (left)\n",
      "Split index and value: 0 4.5 \n",
      "\n",
      "=== Iteration 4 ===\n",
      "Min score: 0.124433989993\n",
      "Purity (farther from 1.0 is better): (2.3294622685617559e-06, 430.28362201694512)\n",
      "Predicts (farther from 0.0 is better): (-6.4849365515234272, 3.0322222886711145)\n",
      "Split node: 3 (left)\n",
      "Split index and value: 1 4.5 \n",
      "\n",
      "=== Iteration 5 ===\n",
      "Min score: 0.364377211021\n",
      "Purity (farther from 1.0 is better): (97.486506474278983, 3.4263848445628932e-06)\n",
      "Predicts (farther from 0.0 is better): (2.2898569866453555, -6.2920024168960875)\n",
      "Split node: 1 (right)\n",
      "Split index and value: 3 4.5 \n",
      "\n",
      "== Timer Log ==\n",
      "(0.00 s) [run_adtree] Iteration 0 starts.\n",
      "(0.34 s) [run_adtree] Found best split.\n",
      "(0.85 s) [run_adtree] Obtained the predictions of the new split.\n",
      "(1.07 s) [run_adtree] Instance weights updated.\n",
      "(1.07 s) [run_adtree] Iteration 1 starts.\n",
      "(2.43 s) [run_adtree] Found best split.\n",
      "(2.68 s) [run_adtree] Obtained the predictions of the new split.\n",
      "(2.89 s) [run_adtree] Instance weights updated.\n",
      "(2.89 s) [run_adtree] Iteration 2 starts.\n",
      "(3.17 s) [run_adtree] Found best split.\n",
      "(3.38 s) [run_adtree] Obtained the predictions of the new split.\n",
      "(3.56 s) [run_adtree] Instance weights updated.\n",
      "(3.56 s) [run_adtree] Iteration 3 starts.\n",
      "(3.91 s) [run_adtree] Found best split.\n",
      "(4.32 s) [run_adtree] Obtained the predictions of the new split.\n",
      "(4.49 s) [run_adtree] Instance weights updated.\n",
      "(4.49 s) [run_adtree] Iteration 4 starts.\n",
      "(4.87 s) [run_adtree] Found best split.\n",
      "(5.06 s) [run_adtree] Obtained the predictions of the new split.\n",
      "(5.23 s) [run_adtree] Instance weights updated.\n",
      "\n"
     ]
    }
   ],
   "source": [
    "adaboost = pb.run_adtree_adaboost(sc, y, X, T=num_round, quiet=False)"
   ]
  },
  {
   "cell_type": "code",
   "execution_count": 7,
   "metadata": {
    "collapsed": false,
    "scrolled": true
   },
   "outputs": [
    {
     "name": "stdout",
     "output_type": "stream",
     "text": [
      "=== Iteration 1 ===\n",
      "Min score: 0.865993669366\n",
      "Purity (farther from 1.0 is better): (2.8971888917078199, 0.51163428855925186)\n",
      "Predicts (farther from 0.0 is better): (0.53187045959208434, -0.33507259465997591)\n",
      "Split node: 0 (left)\n",
      "Split index and value: 2 4.5 \n",
      "\n",
      "=== Iteration 2 ===\n",
      "Min score: 0.725009352202\n",
      "Purity (farther from 1.0 is better): (3.6230292393700063, 0.00024599358974359116)\n",
      "Predicts (farther from 0.0 is better): (0.64365524118308048, -4.1551025401621535)\n",
      "Split node: 1 (right)\n",
      "Split index and value: 3 4.5 \n",
      "\n",
      "=== Iteration 3 ===\n",
      "Min score: 0.632127957371\n",
      "Purity (farther from 1.0 is better): (0.55547517698828774, 80.148331443413312)\n",
      "Predicts (farther from 0.0 is better): (-0.29396567839528376, 2.1919395304575695)\n",
      "Split node: 0 (left)\n",
      "Split index and value: 0 4.5 \n",
      "\n",
      "=== Iteration 4 ===\n",
      "Min score: 0.201376951772\n",
      "Purity (farther from 1.0 is better): (7.3908636442953668e-06, 101.58630074676519)\n",
      "Predicts (farther from 0.0 is better): (-5.9076329816080557, 2.3104543454418343)\n",
      "Split node: 3 (left)\n",
      "Split index and value: 1 4.5 \n",
      "\n",
      "=== Iteration 5 ===\n",
      "Min score: 0.469208163801\n",
      "Purity (farther from 1.0 is better): (73.179873930478891, 80.571550686448546)\n",
      "Predicts (farther from 0.0 is better): (2.1464602184288339, 2.1945728090267735)\n",
      "Split node: 1 (left)\n",
      "Split index and value: 3 7.5 \n",
      "\n",
      "== Timer Log ==\n",
      "(0.00 s) [run_adtree] Iteration 0 starts.\n",
      "(0.28 s) [run_adtree] Found best split.\n",
      "(0.52 s) [run_adtree] Obtained the predictions of the new split.\n",
      "(0.72 s) [run_adtree] Instance weights updated.\n",
      "(0.72 s) [run_adtree] Iteration 1 starts.\n",
      "(1.99 s) [run_adtree] Found best split.\n",
      "(2.23 s) [run_adtree] Obtained the predictions of the new split.\n",
      "(2.40 s) [run_adtree] Instance weights updated.\n",
      "(2.40 s) [run_adtree] Iteration 2 starts.\n",
      "(2.72 s) [run_adtree] Found best split.\n",
      "(2.91 s) [run_adtree] Obtained the predictions of the new split.\n",
      "(3.07 s) [run_adtree] Instance weights updated.\n",
      "(3.07 s) [run_adtree] Iteration 3 starts.\n",
      "(3.41 s) [run_adtree] Found best split.\n",
      "(3.58 s) [run_adtree] Obtained the predictions of the new split.\n",
      "(3.75 s) [run_adtree] Instance weights updated.\n",
      "(3.75 s) [run_adtree] Iteration 4 starts.\n",
      "(4.07 s) [run_adtree] Found best split.\n",
      "(4.24 s) [run_adtree] Obtained the predictions of the new split.\n",
      "(4.40 s) [run_adtree] Instance weights updated.\n",
      "\n"
     ]
    }
   ],
   "source": [
    "logitboost = pb.run_adtree_logitboost(sc, y, X, T=num_round, quiet=False)"
   ]
  },
  {
   "cell_type": "code",
   "execution_count": null,
   "metadata": {
    "collapsed": true
   },
   "outputs": [],
   "source": []
  },
  {
   "cell_type": "markdown",
   "metadata": {},
   "source": [
    "# Performance"
   ]
  },
  {
   "cell_type": "code",
   "execution_count": 8,
   "metadata": {
    "collapsed": true
   },
   "outputs": [],
   "source": [
    "from pyboost.adtree import run_tree\n",
    "from pyboost.utils import safe_comp\n",
    "\n",
    "def test_error(nodes, y, X, max_index=None):    \n",
    "    error = 0\n",
    "    margin = 0.0\n",
    "    for tX, ty in zip(X, y):\n",
    "        ty = ty + ty - 1\n",
    "        _m = run_tree(0, nodes, tX, max_index=max_index)\n",
    "        predict = safe_comp(_m)\n",
    "        if safe_comp(predict, 0.0) * safe_comp(ty, 0.0) <= 0:\n",
    "            error += 1\n",
    "        margin += _m * ty\n",
    "    return 1.0 - float(error) / len(y), margin / len(y)\n",
    "\n",
    "\n",
    "def test_all(nodes):\n",
    "    train_accuracy, train_margin = test_error(nodes, y_train, X_train)\n",
    "    # test_accuracy, test_margin = test_error(nodes, y_test, X_test)\n",
    "    print \"Train accuracy:\", train_accuracy, '\\t',\n",
    "    print \"Train margin:\", train_margin\n",
    "    # print \"Test accuracy:\", test_accuracy, '\\t',\n",
    "    print \"Test margin:\", test_margin\n",
    "\n",
    "\n",
    "def test_margin(nodes):\n",
    "    for max_index in range(num_round):\n",
    "        accuracy, margin = test_error(nodes, y_train, X_train, max_index=max_index)\n",
    "        print max_index, accuracy, margin"
   ]
  },
  {
   "cell_type": "markdown",
   "metadata": {},
   "source": [
    "## Performance of AdaBoost"
   ]
  },
  {
   "cell_type": "code",
   "execution_count": 9,
   "metadata": {
    "collapsed": false
   },
   "outputs": [
    {
     "name": "stdout",
     "output_type": "stream",
     "text": [
      "Train accuracy: 1.0 \tTrain margin: 13.192174803\n",
      "Test margin: <function test_margin at 0x7f9b0cf06668>\n",
      "0 0.5732 -0.10428342082\n",
      "1 0.6998 0.22071307098\n",
      "2 0.8228 3.33221609136\n",
      "3 0.8244 3.79322333331\n",
      "4 1.0 8.48026542188\n"
     ]
    }
   ],
   "source": [
    "test_all(adaboost)\n",
    "test_margin(adaboost)"
   ]
  },
  {
   "cell_type": "markdown",
   "metadata": {},
   "source": [
    "# Performance of LogitBoost"
   ]
  },
  {
   "cell_type": "code",
   "execution_count": 10,
   "metadata": {
    "collapsed": false
   },
   "outputs": [
    {
     "name": "stdout",
     "output_type": "stream",
     "text": [
      "Train accuracy: 1.0 \tTrain margin: 7.89328944568\n",
      "Test margin: <function test_margin at 0x7f9b0cf06668>\n",
      "0 0.5732 -0.10428342082\n",
      "1 0.6998 0.16857136057\n",
      "2 0.8228 3.28004087369\n",
      "3 0.8228 3.53317687625\n",
      "4 1.0 7.80378128392\n"
     ]
    }
   ],
   "source": [
    "test_all(logitboost)\n",
    "test_margin(logitboost)"
   ]
  },
  {
   "cell_type": "code",
   "execution_count": null,
   "metadata": {
    "collapsed": true
   },
   "outputs": [],
   "source": []
  }
 ],
 "metadata": {
  "kernelspec": {
   "display_name": "Python 2",
   "language": "python",
   "name": "python2"
  },
  "language_info": {
   "codemirror_mode": {
    "name": "ipython",
    "version": 2
   },
   "file_extension": ".py",
   "mimetype": "text/x-python",
   "name": "python",
   "nbconvert_exporter": "python",
   "pygments_lexer": "ipython2",
   "version": "2.7.12"
  }
 },
 "nbformat": 4,
 "nbformat_minor": 1
}
