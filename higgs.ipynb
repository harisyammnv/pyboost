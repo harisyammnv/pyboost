{
 "cells": [
  {
   "cell_type": "code",
   "execution_count": 1,
   "metadata": {
    "collapsed": false
   },
   "outputs": [],
   "source": [
    "import pickle\n",
    "\n",
    "from pyboost import controllers as pb\n",
    "from pyspark import SparkContext\n",
    "\n",
    "sc = SparkContext(master=\"local[3]\")"
   ]
  },
  {
   "cell_type": "code",
   "execution_count": 2,
   "metadata": {
    "collapsed": false
   },
   "outputs": [],
   "source": [
    "X_train, X_test, y_train, y_test = pickle.load(open(\"../experiments/higgs/data/higgs-data-1p.pickle\"))"
   ]
  },
  {
   "cell_type": "code",
   "execution_count": 3,
   "metadata": {
    "collapsed": true
   },
   "outputs": [],
   "source": [
    "X = sc.parallelize(X_train)\n",
    "y = sc.parallelize([y + y - 1 for y in  y_train])"
   ]
  },
  {
   "cell_type": "code",
   "execution_count": 4,
   "metadata": {
    "collapsed": true
   },
   "outputs": [],
   "source": [
    "num_round = 10"
   ]
  },
  {
   "cell_type": "code",
   "execution_count": 5,
   "metadata": {
    "collapsed": false,
    "scrolled": false
   },
   "outputs": [
    {
     "name": "stdout",
     "output_type": "stream",
     "text": [
      "=== Iteration 1 ===\n",
      "Min score: 0.972018075261\n",
      "Purity (farther from 1.0 is better): (1.3256888724673979, 0.49843948824910711)\n",
      "Predicts (farther from 0.0 is better): (0.140966114042018, -0.3481365423065515)\n",
      "Split node: 0 (left)\n",
      "Split index and value: 25 1.06971287727 \n",
      "\n",
      "=== Iteration 2 ===\n",
      "Min score: 0.984263898491\n",
      "Purity (farther from 1.0 is better): (0.51704332792388952, 1.280339226858884)\n",
      "Predicts (farther from 0.0 is better): (-0.32981430077804191, 0.12356253190158577)\n",
      "Split node: 1 (left)\n",
      "Split index and value: 25 0.597122132778 \n",
      "\n",
      "=== Iteration 3 ===\n",
      "Min score: 0.992182479221\n",
      "Purity (farther from 1.0 is better): (0.54947391953859592, 1.2505038484132525)\n",
      "Predicts (farther from 0.0 is better): (-0.2993969842164928, 0.11177327441520166)\n",
      "Split node: 2 (right)\n",
      "Split index and value: 26 0.825517624617 \n",
      "\n",
      "=== Iteration 4 ===\n",
      "Min score: 0.985875407516\n",
      "Purity (farther from 1.0 is better): (1.2937265066665697, 0.58689332099643554)\n",
      "Predicts (farther from 0.0 is better): (0.12876340938418007, -0.26645610581078877)\n",
      "Split node: 1 (left)\n",
      "Split index and value: 27 0.928022652864 \n",
      "\n",
      "=== Iteration 5 ===\n",
      "Min score: 0.985162381753\n",
      "Purity (farther from 1.0 is better): (0.82264104878257927, 1.4152663556470815)\n",
      "Predicts (farther from 0.0 is better): (-0.097617661581710341, 0.17365887529360949)\n",
      "Split node: 0 (left)\n",
      "Split index and value: 22 1.01030796766 \n",
      "\n",
      "=== Iteration 6 ===\n",
      "Min score: 0.989191234245\n",
      "Purity (farther from 1.0 is better): (0.86971113960446045, 1.828610485749897)\n",
      "Predicts (farther from 0.0 is better): (-0.069797072954321859, 0.30177819051831223)\n",
      "Split node: 4 (left)\n",
      "Split index and value: 5 0.949692040682 \n",
      "\n",
      "=== Iteration 7 ===\n",
      "Min score: 0.993115825469\n",
      "Purity (farther from 1.0 is better): (1.4984891554045734, 0.83774507695491718)\n",
      "Predicts (farther from 0.0 is better): (0.20222868539057112, -0.088520714445293899)\n",
      "Split node: 5 (left)\n",
      "Split index and value: 22 0.793794155121 \n",
      "\n",
      "=== Iteration 8 ===\n",
      "Min score: 0.991921337557\n",
      "Purity (farther from 1.0 is better): (1.0637188175934738, 0.46924484320908966)\n",
      "Predicts (farther from 0.0 is better): (0.030885543407566936, -0.37831529650389223)\n",
      "Split node: 5 (left)\n",
      "Split index and value: 27 1.21824270487 \n",
      "\n",
      "=== Iteration 9 ===\n",
      "Min score: 0.993740611954\n",
      "Purity (farther from 1.0 is better): (0.4471084823136881, 1.9151047140314299)\n",
      "Predicts (farther from 0.0 is better): (-0.40247701203658243, 0.3248861510470103)\n",
      "Split node: 8 (right)\n",
      "Split index and value: 24 1.29716491699 \n",
      "\n",
      "=== Iteration 10 ===\n",
      "Min score: 0.992942246217\n",
      "Purity (farther from 1.0 is better): (0.83198164941081809, 1.314184493825105)\n",
      "Predicts (farther from 0.0 is better): (-0.091972447200389204, 0.13660815823298766)\n",
      "Split node: 5 (left)\n",
      "Split index and value: 24 0.970286011696 \n",
      "\n",
      "== Timer Log ==\n",
      "(0.00 s) [run_adtree] Iteration 0 starts.\n",
      "(1.36 s) [run_adtree] Found best split.\n",
      "(2.20 s) [run_adtree] Obtained the predictions of the new split.\n",
      "(3.06 s) [run_adtree] Instance weights updated.\n",
      "(3.06 s) [run_adtree] Iteration 1 starts.\n",
      "(4.39 s) [run_adtree] Found best split.\n",
      "(5.19 s) [run_adtree] Obtained the predictions of the new split.\n",
      "(5.99 s) [run_adtree] Instance weights updated.\n",
      "(5.99 s) [run_adtree] Iteration 2 starts.\n",
      "(7.46 s) [run_adtree] Found best split.\n",
      "(8.23 s) [run_adtree] Obtained the predictions of the new split.\n",
      "(9.03 s) [run_adtree] Instance weights updated.\n",
      "(9.03 s) [run_adtree] Iteration 3 starts.\n",
      "(10.77 s) [run_adtree] Found best split.\n",
      "(11.54 s) [run_adtree] Obtained the predictions of the new split.\n",
      "(12.28 s) [run_adtree] Instance weights updated.\n",
      "(12.28 s) [run_adtree] Iteration 4 starts.\n",
      "(14.14 s) [run_adtree] Found best split.\n",
      "(14.90 s) [run_adtree] Obtained the predictions of the new split.\n",
      "(15.72 s) [run_adtree] Instance weights updated.\n",
      "(15.72 s) [run_adtree] Iteration 5 starts.\n",
      "(17.96 s) [run_adtree] Found best split.\n",
      "(18.68 s) [run_adtree] Obtained the predictions of the new split.\n",
      "(19.44 s) [run_adtree] Instance weights updated.\n",
      "(19.44 s) [run_adtree] Iteration 6 starts.\n",
      "(21.61 s) [run_adtree] Found best split.\n",
      "(22.33 s) [run_adtree] Obtained the predictions of the new split.\n",
      "(23.11 s) [run_adtree] Instance weights updated.\n",
      "(23.11 s) [run_adtree] Iteration 7 starts.\n",
      "(25.51 s) [run_adtree] Found best split.\n",
      "(26.23 s) [run_adtree] Obtained the predictions of the new split.\n",
      "(27.00 s) [run_adtree] Instance weights updated.\n",
      "(27.00 s) [run_adtree] Iteration 8 starts.\n",
      "(29.63 s) [run_adtree] Found best split.\n",
      "(30.43 s) [run_adtree] Obtained the predictions of the new split.\n",
      "(31.16 s) [run_adtree] Instance weights updated.\n",
      "(31.16 s) [run_adtree] Iteration 9 starts.\n",
      "(33.79 s) [run_adtree] Found best split.\n",
      "(34.48 s) [run_adtree] Obtained the predictions of the new split.\n",
      "(35.23 s) [run_adtree] Instance weights updated.\n",
      "\n"
     ]
    }
   ],
   "source": [
    "adaboost = pb.run_adtree_adaboost(sc, y, X, T=num_round, quiet=False)"
   ]
  },
  {
   "cell_type": "code",
   "execution_count": 8,
   "metadata": {
    "collapsed": false,
    "scrolled": true
   },
   "outputs": [
    {
     "name": "stdout",
     "output_type": "stream",
     "text": [
      "=== Iteration 1 ===\n",
      "Score (sorted by index): [0.99457455462809874, 0.9992027170680694, 0.99747774785329568, 0.99282811139918703, 0.99833348281764678, 0.99478083120169081, 0.9975311819470537, 0.99915739875018506, 0.9988432535755889, 0.99854960103612211, 0.99686044608937319, 0.99852474065850283, 0.99812489063190235, 0.99835175348835514, 0.99816670201893964, 0.9978074465036797, 0.99795604769916924, 0.99815642182942999, 0.99845926936942275, 0.99595550120273113, 0.99863804882348628, 0.99753338562355875, 0.99505392510955126, 0.9978816138310791, 0.99633779687694057, 0.97461538211441812, 0.99285170333338257, 0.98194760143874382]\n",
      "Min score: 0.974615382114\n",
      "Purity (farther from 1.0 is better): (1.4032316420944626, 0.52411631746729659)\n",
      "Predicts (farther from 0.0 is better): (0.16938894616741476, -0.32302081969778318)\n",
      "Split node: 0 (left)\n",
      "Split index and value: 25 1.0768276453 \n",
      "\n",
      "=== Iteration 2 ===\n",
      "Score (sorted by index): [0.99346193239160474, 0.99489841397974343, 0.99329898018130547, 0.99300845216261979, 0.99653697824778309, 0.98662851661394069, 0.99655166655892646, 0.99313288961129886, 0.9940529928810673, 0.99132944618855656, 0.99651232100426035, 0.99507766032975109, 0.99466287577762125, 0.99535074503714582, 0.9948145054270654, 0.99407022921629717, 0.99563356140066062, 0.99318577364571969, 0.99494639865864576, 0.9944264240127022, 0.995191994537727, 0.99487338586446794, 0.99114083136774145, 0.99528611061595518, 0.99496020561108534, 0.9772126614994705, 0.98356993579149599, 0.98890265075682837]\n",
      "Min score: 0.977212661499\n",
      "Purity (farther from 1.0 is better): (0.68219428453096642, 1.6085167388256962)\n",
      "Predicts (farther from 0.0 is better): (-0.19122039351446266, 0.23765623706221173)\n",
      "Split node: 1 (left)\n",
      "Split index and value: 25 0.668727099895 \n",
      "\n",
      "=== Iteration 3 ===\n",
      "Score (sorted by index): [0.99531008335536297, 0.99466034921845514, 0.9954199395129647, 0.99323392904190011, 0.99319106551565361, 0.98976347604267423, 0.99484910129098614, 0.9944054722331479, 0.99444165994494393, 0.99304388074242134, 0.99374826717414155, 0.99602188268501957, 0.99524468484535422, 0.9963165840601268, 0.99203525990637687, 0.99221650278352347, 0.99488259114422772, 0.99536092463743442, 0.99325995187509353, 0.99424682437509149, 0.99472983427162787, 0.99312919623974139, 0.98910533620503749, 0.99389947129174794, 0.99317196064890823, 0.99094595314354517, 0.98627848216501324, 0.98865270991493048]\n",
      "Min score: 0.986278482165\n",
      "Purity (farther from 1.0 is better): (0.61584990283291696, 1.5680335060235784)\n",
      "Predicts (farther from 0.0 is better): (-0.24237600468592357, 0.22491114516869812)\n",
      "Split node: 2 (right)\n",
      "Split index and value: 26 0.817463040352 \n",
      "\n",
      "=== Iteration 4 ===\n",
      "Score (sorted by index): [0.99343031620788913, 0.99361482857879713, 0.99501371182901832, 0.99188696185920511, 0.99394177874330536, 0.99111920965037725, 0.99386847531993094, 0.9936861932456762, 0.99357979748924596, 0.99605202216646638, 0.99381907755026577, 0.9938241557543277, 0.99349720696622579, 0.99349943020161113, 0.995378002129369, 0.994240637351957, 0.99790749331800277, 0.99245404661784553, 0.99195126727786631, 0.99558248018294737, 0.99689751185612741, 0.99475876831473908, 0.99273084457665206, 0.99462813334677858, 0.99178729415946831, 0.98870942361263559, 0.99233598466230455, 0.9844275035259098]\n",
      "Min score: 0.984427503526\n",
      "Purity (farther from 1.0 is better): (1.9467900180125912, 0.73170416267539873)\n",
      "Predicts (farther from 0.0 is better): (0.33309093579097487, -0.15618949803086662)\n",
      "Split node: 3 (right)\n",
      "Split index and value: 27 0.937434315681 \n",
      "\n",
      "=== Iteration 5 ===\n",
      "Score (sorted by index): [0.99135485506107413, 0.99334967265848451, 0.99443246249071215, 0.99378017651827011, 0.99241502521801261, 0.99333921750891541, 0.99486746321074493, 0.99020313135520421, 0.99333790179426285, 0.99391556465948661, 0.99435632601658763, 0.99411523947589209, 0.99689922711499324, 0.99226888373119082, 0.99209237869333999, 0.99610597294074976, 0.9965749456225218, 0.99326528222845745, 0.99572005741380254, 0.99366162569824745, 0.99508594652485027, 0.99323863558454506, 0.9931098162105757, 0.99453621249957269, 0.99047702971024032, 0.99009410304908596, 0.99267068894124166, 0.9878651029622364]\n",
      "Min score: 0.987865102962\n",
      "Purity (farther from 1.0 is better): (1.6631739225433324, 0.8901801955658033)\n",
      "Predicts (farther from 0.0 is better): (0.25436388917612374, -0.058165684910872477)\n",
      "Split node: 3 (right)\n",
      "Split index and value: 27 0.858566761017 \n",
      "\n",
      "=== Iteration 6 ===\n",
      "Score (sorted by index): [0.99191827242711006, 0.99215043124708946, 0.99336656832206982, 0.99142073567900146, 0.99386387857648351, 0.99084742613505494, 0.99219445809854989, 0.99640378753502479, 0.99497051399304759, 0.99237417014320273, 0.99291855314162869, 0.9935478321591692, 0.99502872341076287, 0.99474208780270179, 0.99609039252206921, 0.99306109619637506, 0.99556402073026284, 0.99480962064935163, 0.99522802740181271, 0.9961105236649771, 0.99617602384950121, 0.99172104887408974, 0.98538401481412252, 0.99361811956324875, 0.99494037414190628, 0.98944470904652604, 0.99217349022837209, 0.98965343646392345]\n",
      "Min score: 0.985384014814\n",
      "Purity (farther from 1.0 is better): (0.73474042014427698, 1.2064798162334134)\n",
      "Predicts (farther from 0.0 is better): (-0.15411900601009945, 0.093853438376983372)\n",
      "Split node: 0 (left)\n",
      "Split index and value: 22 1.03359556198 \n",
      "\n",
      "=== Iteration 7 ===\n",
      "Score (sorted by index): [0.99217184947562787, 0.99485816806570815, 0.99388933666305457, 0.99190673580833733, 0.99489695708010339, 0.9938290219080369, 0.99398907577722229, 0.99294423979887514, 0.99786107524034307, 0.99401619009648501, 0.99406412494134655, 0.99521045500378635, 0.99427370131045867, 0.99502849477042354, 0.99564921563885467, 0.9964748782076851, 0.9963661450695418, 0.99618177929252982, 0.99513578772381384, 0.99588382344962001, 0.99083325676881162, 0.99416639670101348, 0.98868000694927982, 0.99609269624179086, 0.99388668580006367, 0.98906407815321939, 0.99297097643289312, 0.98637306921518242]\n",
      "Min score: 0.986373069215\n",
      "Purity (farther from 1.0 is better): (1.0236553519871809, 0.49005138822736966)\n",
      "Predicts (farther from 0.0 is better): (0.011689949819896765, -0.35662250972147191)\n",
      "Split node: 6 (left)\n",
      "Split index and value: 27 0.977777302265 \n",
      "\n",
      "=== Iteration 8 ===\n",
      "Score (sorted by index): [0.99289594686405269, 0.99491666432908532, 0.99101685804651818, 0.99603124480137095, 0.9959182378031648, 0.99105644248932934, 0.99593475978963852, 0.99460398332909616, 0.99722835356250417, 0.99179234846218822, 0.99767714134609509, 0.99816123223814768, 0.9950672593495139, 0.99409868420967129, 0.99573066687874823, 0.99465793394841928, 0.99730408997224862, 0.99611896281051049, 0.99529855166814307, 0.99539600799640315, 0.99751893227533905, 0.99588546655623511, 0.99110083294310758, 0.99583705304130965, 0.99038483196909077, 0.99139628055276607, 0.99322957083772201, 0.99416141956676629]\n",
      "Min score: 0.990384831969\n",
      "Purity (farther from 1.0 is better): (0.3560045178802429, 1.2530611110249363)\n",
      "Predicts (farther from 0.0 is better): (-0.51640592876789648, 0.11279472324616692)\n",
      "Split node: 7 (right)\n",
      "Split index and value: 24 1.15608823299 \n",
      "\n",
      "=== Iteration 9 ===\n",
      "Score (sorted by index): [0.99105536371212999, 0.99706289332744236, 0.99576302315740306, 0.9948319987212777, 0.99370396796944072, 0.99157029326841095, 0.99419382458006422, 0.9940842197610662, 0.99290247134795739, 0.99391356147343046, 0.99772144373426053, 0.99622653437967512, 0.99648986004043794, 0.99316207669103584, 0.99658990086795818, 0.99191218390710645, 0.99630338696709853, 0.99685619770952205, 0.99250585756216825, 0.99513688959994961, 0.99599394272873387, 0.99139556221290326, 0.99631058910740844, 0.99498074008141435, 0.99353143691702406, 0.9913761638935854, 0.99436058680845618, 0.99419849943218974]\n",
      "Min score: 0.991055363712\n",
      "Purity (farther from 1.0 is better): (1.3276194931759442, 1.5678621657988081)\n",
      "Predicts (farther from 0.0 is better): (0.14169374188741379, 0.22485650679967317)\n",
      "Split node: 5 (left)\n",
      "Split index and value: 0 0.954758405685 \n",
      "\n",
      "=== Iteration 10 ===\n",
      "Score (sorted by index): [0.99534993365578517, 0.99549797771049153, 0.99711891617294901, 0.99261025964916461, 0.99749922432767568, 0.98959457105351034, 0.99528699437248358, 0.99455026122078316, 0.99621872633085773, 0.99231392437649579, 0.99746363103188496, 0.99676298719349432, 0.9953685736345772, 0.99551381534698336, 0.99615423699850902, 0.99596061318108531, 0.99450553651144458, 0.99656586457514862, 0.99499669755343589, 0.99681752713366889, 0.99618972844071729, 0.9961700115121479, 0.99377005191742862, 0.99467965417664694, 0.99420171988931227, 0.99270810668953402, 0.99408077654423932, 0.99417465366482727]\n",
      "Min score: 0.989594571054\n",
      "Purity (farther from 1.0 is better): (0.87143669783691202, 1.9481110533325761)\n",
      "Predicts (farther from 0.0 is better): (-0.068806026266454268, 0.33343010624651209)\n",
      "Split node: 7 (left)\n",
      "Split index and value: 5 1.1568158865 \n",
      "\n",
      "== Timer Log ==\n",
      "(0.00 s) [run_adtree] Iteration 0 starts.\n",
      "(3.97 s) [run_adtree] Found best split.\n",
      "(4.98 s) [run_adtree] Obtained the predictions of the new split.\n",
      "(6.72 s) [run_adtree] Instance weights updated.\n",
      "(6.72 s) [run_adtree] Iteration 1 starts.\n",
      "(12.43 s) [run_adtree] Found best split.\n",
      "(13.54 s) [run_adtree] Obtained the predictions of the new split.\n",
      "(15.79 s) [run_adtree] Instance weights updated.\n",
      "(15.79 s) [run_adtree] Iteration 2 starts.\n",
      "(24.85 s) [run_adtree] Found best split.\n",
      "(26.24 s) [run_adtree] Obtained the predictions of the new split.\n",
      "(29.04 s) [run_adtree] Instance weights updated.\n",
      "(29.04 s) [run_adtree] Iteration 3 starts.\n",
      "(39.55 s) [run_adtree] Found best split.\n",
      "(40.62 s) [run_adtree] Obtained the predictions of the new split.\n",
      "(42.87 s) [run_adtree] Instance weights updated.\n",
      "(42.87 s) [run_adtree] Iteration 4 starts.\n",
      "(50.81 s) [run_adtree] Found best split.\n",
      "(51.69 s) [run_adtree] Obtained the predictions of the new split.\n",
      "(53.98 s) [run_adtree] Instance weights updated.\n",
      "(53.98 s) [run_adtree] Iteration 5 starts.\n",
      "(67.07 s) [run_adtree] Found best split.\n",
      "(67.96 s) [run_adtree] Obtained the predictions of the new split.\n",
      "(69.62 s) [run_adtree] Instance weights updated.\n",
      "(69.62 s) [run_adtree] Iteration 6 starts.\n",
      "(80.22 s) [run_adtree] Found best split.\n",
      "(81.17 s) [run_adtree] Obtained the predictions of the new split.\n",
      "(83.56 s) [run_adtree] Instance weights updated.\n",
      "(83.56 s) [run_adtree] Iteration 7 starts.\n",
      "(95.27 s) [run_adtree] Found best split.\n",
      "(96.07 s) [run_adtree] Obtained the predictions of the new split.\n",
      "(97.83 s) [run_adtree] Instance weights updated.\n",
      "(97.83 s) [run_adtree] Iteration 8 starts.\n",
      "(108.64 s) [run_adtree] Found best split.\n",
      "(109.53 s) [run_adtree] Obtained the predictions of the new split.\n",
      "(111.40 s) [run_adtree] Instance weights updated.\n",
      "(111.40 s) [run_adtree] Iteration 9 starts.\n",
      "(122.43 s) [run_adtree] Found best split.\n",
      "(123.33 s) [run_adtree] Obtained the predictions of the new split.\n",
      "(125.18 s) [run_adtree] Instance weights updated.\n",
      "\n"
     ]
    }
   ],
   "source": [
    "logitboost = pb.run_adtree_logitboost(sc, y, X, T=num_round, quiet=False)"
   ]
  },
  {
   "cell_type": "code",
   "execution_count": null,
   "metadata": {
    "collapsed": true
   },
   "outputs": [],
   "source": []
  },
  {
   "cell_type": "markdown",
   "metadata": {},
   "source": [
    "# Performance"
   ]
  },
  {
   "cell_type": "code",
   "execution_count": 6,
   "metadata": {
    "collapsed": true
   },
   "outputs": [],
   "source": [
    "from pyboost.adtree import run_tree\n",
    "from pyboost.utils import safe_comp\n",
    "\n",
    "def test_error(nodes, y, X, max_index=None):    \n",
    "    error = 0\n",
    "    margin = 0.0\n",
    "    for tX, ty in zip(X, y):\n",
    "        ty = ty + ty - 1\n",
    "        _m = run_tree(0, nodes, tX, max_index=max_index)\n",
    "        predict = safe_comp(_m)\n",
    "        if safe_comp(predict, ty):\n",
    "            error += 1\n",
    "        margin += _m * ty\n",
    "    return 1.0 - float(error) / len(y), margin / len(y)\n",
    "\n",
    "\n",
    "def test_all(nodes):\n",
    "    train_accuracy, train_margin = test_error(nodes, y_train, X_train)\n",
    "    test_accuracy, test_margin = test_error(nodes, y_test, X_test)\n",
    "    print \"Train accuracy:\", train_accuracy, '\\t',\n",
    "    print \"Train margin:\", train_margin\n",
    "    print \"Test accuracy:\", test_accuracy, '\\t',\n",
    "    print \"Test margin:\", test_margin\n",
    "\n",
    "\n",
    "def test_margin(nodes):\n",
    "    for max_index in range(num_round + 1):\n",
    "        accuracy, margin = test_error(nodes, y_train, X_train, max_index=max_index)\n",
    "        print max_index, accuracy, margin"
   ]
  },
  {
   "cell_type": "markdown",
   "metadata": {},
   "source": [
    "## Performance of AdaBoost"
   ]
  },
  {
   "cell_type": "code",
   "execution_count": 7,
   "metadata": {
    "collapsed": false
   },
   "outputs": [
    {
     "name": "stdout",
     "output_type": "stream",
     "text": [
      "Train accuracy: 0.66237 \tTrain margin: 0.18171254852\n",
      "Test accuracy: 0.6554 \tTest margin: 0.17577454326\n",
      "0 0.52977 0.00354920956848\n",
      "1 0.61094 0.0516427946144\n",
      "2 0.63479 0.0798423159376\n",
      "3 0.63479 0.0968911992297\n",
      "4 0.63678 0.111258865365\n",
      "5 0.63816 0.124004737682\n",
      "6 0.65063 0.144300736904\n",
      "7 0.65887 0.156041353027\n",
      "8 0.65741 0.167961583287\n",
      "9 0.65784 0.175234811317\n",
      "10 0.66237 0.18171254852\n"
     ]
    }
   ],
   "source": [
    "test_all(adaboost)\n",
    "test_margin(adaboost)"
   ]
  },
  {
   "cell_type": "markdown",
   "metadata": {},
   "source": [
    "# Performance of LogitBoost"
   ]
  },
  {
   "cell_type": "code",
   "execution_count": 12,
   "metadata": {
    "collapsed": false
   },
   "outputs": [
    {
     "name": "stdout",
     "output_type": "stream",
     "text": [
      "Train accuracy: 0.64391 \tTrain margin: 0.277308308117\n",
      "Test accuracy: 0.6407 \tTest margin: 0.266371187466\n",
      "0 0.52977 0.00354920956848\n",
      "1 0.61089 0.0535789076303\n",
      "2 0.61089 0.0950319156935\n",
      "3 0.61089 0.131287217591\n",
      "4 0.61089 0.170891795839\n",
      "5 0.61089 0.19305184883\n",
      "6 0.62958 0.199758238275\n",
      "7 0.63312 0.222920250926\n",
      "8 0.63885 0.250397959361\n",
      "9 0.63885 0.268250095384\n",
      "10 0.64391 0.277308308117\n"
     ]
    }
   ],
   "source": [
    "test_all(logitboost)\n",
    "test_margin(logitboost)"
   ]
  },
  {
   "cell_type": "code",
   "execution_count": null,
   "metadata": {
    "collapsed": true
   },
   "outputs": [],
   "source": []
  }
 ],
 "metadata": {
  "kernelspec": {
   "display_name": "Python 2",
   "language": "python",
   "name": "python2"
  },
  "language_info": {
   "codemirror_mode": {
    "name": "ipython",
    "version": 2
   },
   "file_extension": ".py",
   "mimetype": "text/x-python",
   "name": "python",
   "nbconvert_exporter": "python",
   "pygments_lexer": "ipython2",
   "version": "2.7.12"
  }
 },
 "nbformat": 4,
 "nbformat_minor": 1
}
